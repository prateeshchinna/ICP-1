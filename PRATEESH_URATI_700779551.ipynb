{
  "nbformat": 4,
  "nbformat_minor": 0,
  "metadata": {
    "colab": {
      "provenance": []
    },
    "kernelspec": {
      "name": "python3",
      "display_name": "Python 3"
    },
    "language_info": {
      "name": "python"
    }
  },
  "cells": [
    {
      "cell_type": "markdown",
      "source": [
        "# 5A"
      ],
      "metadata": {
        "id": "FWEWZvxf6eLZ"
      }
    },
    {
      "cell_type": "code",
      "execution_count": 2,
      "metadata": {
        "colab": {
          "base_uri": "https://localhost:8080/"
        },
        "id": "0sqCiSbz2iXn",
        "outputId": "009955c7-d143-4a16-f519-b699aa7b8ac2"
      },
      "outputs": [
        {
          "output_type": "stream",
          "name": "stdout",
          "text": [
            "Enter a string: Python\n",
            "ohty\n"
          ]
        }
      ],
      "source": [
        "char_list = list(input(\"Enter a string: \"))\n",
        "del char_list[0]\n",
        "del char_list[-1]\n",
        "char_list.reverse()\n",
        "result = ''.join(char_list)\n",
        "print(result)"
      ]
    },
    {
      "cell_type": "markdown",
      "source": [
        "# 5B"
      ],
      "metadata": {
        "id": "hTBqALJI6ae9"
      }
    },
    {
      "cell_type": "code",
      "source": [
        "num1 = float(input(\"Enter first number: \"))\n",
        "num2 = float(input(\"Enter second number: \"))\n",
        "add = num1 + num2\n",
        "sub = num1 - num2\n",
        "mul = num1 * num2\n",
        "if num2 != 0:\n",
        "    div = num1 / num2\n",
        "else:\n",
        "    div = \"Undefined (division by zero)\"\n",
        "print(\"Addition:\", add)\n",
        "print(\"Subtraction:\", sub)\n",
        "print(\"Multiplication:\", mul)\n",
        "print(\"Division:\", div)"
      ],
      "metadata": {
        "colab": {
          "base_uri": "https://localhost:8080/"
        },
        "id": "o3JHk5wN4B7s",
        "outputId": "720a13db-43c8-4a65-977e-ebe3bee958e8"
      },
      "execution_count": 3,
      "outputs": [
        {
          "output_type": "stream",
          "name": "stdout",
          "text": [
            "Enter first number: 4\n",
            "Enter second number: 2\n",
            "Addition: 6.0\n",
            "Subtraction: 2.0\n",
            "Multiplication: 8.0\n",
            "Division: 2.0\n"
          ]
        }
      ]
    },
    {
      "cell_type": "markdown",
      "source": [
        "# 6"
      ],
      "metadata": {
        "id": "RyYM02lj62vY"
      }
    },
    {
      "cell_type": "code",
      "source": [
        "sentence = input(\"Enter a sentence: \")\n",
        "updated_sentence = sentence.replace(\"python\", \"pythons\")\n",
        "print(\"Updated sentence:\", updated_sentence)"
      ],
      "metadata": {
        "colab": {
          "base_uri": "https://localhost:8080/"
        },
        "id": "1UJlv9hk4V1G",
        "outputId": "a5a0989a-9054-4d42-bde3-b162bcbd782c"
      },
      "execution_count": 6,
      "outputs": [
        {
          "output_type": "stream",
          "name": "stdout",
          "text": [
            "Enter a sentence: python is a programming language\n",
            "Updated sentence: pythons is a programming language\n"
          ]
        }
      ]
    },
    {
      "cell_type": "markdown",
      "source": [
        "# 7"
      ],
      "metadata": {
        "id": "WYU-op3E68tL"
      }
    },
    {
      "cell_type": "code",
      "source": [
        "score = float(input(\"Enter class score (0–100): \"))\n",
        "\n",
        "if score >= 90:\n",
        "    print(\"Grade: A\")\n",
        "elif score >= 80:\n",
        "    print(\"Grade: B\")\n",
        "elif score >= 70:\n",
        "    print(\"Grade: C\")\n",
        "elif score >= 60:\n",
        "    print(\"Grade: D\")\n",
        "else:\n",
        "    print(\"Grade: F\")"
      ],
      "metadata": {
        "colab": {
          "base_uri": "https://localhost:8080/"
        },
        "id": "4PhwGRa743tk",
        "outputId": "8c0f53b6-c851-485c-b31e-371d5069761b"
      },
      "execution_count": 7,
      "outputs": [
        {
          "output_type": "stream",
          "name": "stdout",
          "text": [
            "Enter class score (0–100): 95\n",
            "Grade: A\n"
          ]
        }
      ]
    },
    {
      "cell_type": "markdown",
      "source": [
        "# 8"
      ],
      "metadata": {
        "id": "-75kc1wD6_O5"
      }
    },
    {
      "cell_type": "code",
      "source": [
        "x = [23, 'Python', 23.98]\n",
        "#input_str = input(\"Enter values separated by commas (e.g. 23,'Python',23.98): \")\n",
        "types = []\n",
        "for item in x:\n",
        "    types.append(type(item))\n",
        "print(x)\n",
        "print(types)"
      ],
      "metadata": {
        "colab": {
          "base_uri": "https://localhost:8080/"
        },
        "id": "JG5xJgo55QDG",
        "outputId": "64961528-3b04-48b4-8d50-be485ac9ed6b"
      },
      "execution_count": 10,
      "outputs": [
        {
          "output_type": "stream",
          "name": "stdout",
          "text": [
            "[23, 'Python', 23.98]\n",
            "[<class 'int'>, <class 'str'>, <class 'float'>]\n"
          ]
        }
      ]
    },
    {
      "cell_type": "markdown",
      "source": [
        "# 9"
      ],
      "metadata": {
        "id": "Ae9oBr137CZu"
      }
    },
    {
      "cell_type": "code",
      "source": [
        "IT_companies = {'Facebook', 'Google', 'Microsoft', 'Apple', 'IBM', 'Oracle', 'Amazon'}\n",
        "A = {19, 22, 24, 20, 25, 26}\n",
        "B = {19, 22, 20, 25, 26, 24, 28, 27}\n",
        "age = [22, 19, 24, 25, 26, 24, 25, 24]\n",
        "\n",
        "print(\"Length of IT_companies:\", len(IT_companies))\n",
        "\n",
        "IT_companies.add('Twitter')\n",
        "print(\"After adding Twitter:\", IT_companies)\n",
        "\n",
        "IT_companies.update(['Tesla', 'Samsung', 'Intel'])\n",
        "print(\"After adding multiple companies:\", IT_companies)\n",
        "\n",
        "IT_companies.remove('IBM')\n",
        "print(\"After removing IBM:\", IT_companies)\n",
        "\n",
        "IT_companies.discard('Netflix')\n",
        "print(\"Remove vs Discard explained in code comments.\")\n",
        "\n",
        "print(\"Union of A and B:\", A.union(B))\n",
        "print(\"Intersection of A and B:\", A.intersection(B))\n",
        "print(\"Is A subset of B?\", A.issubset(B))\n",
        "print(\"Are A and B disjoint?\", A.isdisjoint(B))\n",
        "print(\"A union B:\", A.union(B))\n",
        "print(\"B union A:\", B.union(A))\n",
        "print(\"Symmetric difference between A and B:\", A.symmetric_difference(B))\n",
        "\n",
        "del A\n",
        "del B\n",
        "\n",
        "age_set = set(age)\n",
        "print(\"Original age list:\", age)\n",
        "print(\"Unique ages (as set):\", age_set)\n",
        "print(\"Length of age list:\", len(age))\n",
        "print(\"Length of age set:\", len(age_set))"
      ],
      "metadata": {
        "colab": {
          "base_uri": "https://localhost:8080/"
        },
        "id": "NoUr-hKc5-y8",
        "outputId": "ba32c640-8ec7-4105-f02e-ffe885a7daaa"
      },
      "execution_count": 11,
      "outputs": [
        {
          "output_type": "stream",
          "name": "stdout",
          "text": [
            "Length of IT_companies: 7\n",
            "After adding Twitter: {'Microsoft', 'Oracle', 'Facebook', 'Google', 'Twitter', 'Amazon', 'Apple', 'IBM'}\n",
            "After adding multiple companies: {'Tesla', 'Microsoft', 'Oracle', 'Samsung', 'Amazon', 'Twitter', 'Intel', 'Apple', 'IBM', 'Facebook', 'Google'}\n",
            "After removing IBM: {'Tesla', 'Microsoft', 'Oracle', 'Samsung', 'Amazon', 'Twitter', 'Intel', 'Apple', 'Facebook', 'Google'}\n",
            "Remove vs Discard explained in code comments.\n",
            "Union of A and B: {19, 20, 22, 24, 25, 26, 27, 28}\n",
            "Intersection of A and B: {19, 20, 22, 24, 25, 26}\n",
            "Is A subset of B? True\n",
            "Are A and B disjoint? False\n",
            "A union B: {19, 20, 22, 24, 25, 26, 27, 28}\n",
            "B union A: {19, 20, 22, 24, 25, 26, 27, 28}\n",
            "Symmetric difference between A and B: {27, 28}\n",
            "Original age list: [22, 19, 24, 25, 26, 24, 25, 24]\n",
            "Unique ages (as set): {19, 22, 24, 25, 26}\n",
            "Length of age list: 8\n",
            "Length of age set: 5\n"
          ]
        }
      ]
    }
  ]
}